{
 "cells": [
  {
   "cell_type": "code",
   "execution_count": 1,
   "metadata": {},
   "outputs": [],
   "source": [
    "import pandas as pd"
   ]
  },
  {
   "cell_type": "code",
   "execution_count": 2,
   "metadata": {},
   "outputs": [],
   "source": [
    "df = pd.read_csv(\"radar_dataset/radar_dataset.csv\")"
   ]
  },
  {
   "cell_type": "markdown",
   "metadata": {},
   "source": [
    "Посмотрели на датасет. Делим его на два варианта, один для классификации dimension_class, другой для классификации marine_traffic_class. В первом случае убираем записи без num_profile, во втором без num_profile или marine_traffic_class = None, тем самым выигрываем для первого случая 130 тысяч записей. Модели будут тренироваться отдельно. Некоторые промежуточные выводы данных удалены."
   ]
  },
  {
   "cell_type": "code",
   "execution_count": 3,
   "metadata": {},
   "outputs": [],
   "source": [
    "index_for_ship_class = []\n",
    "index_for_dimension_class = []"
   ]
  },
  {
   "cell_type": "code",
   "execution_count": 4,
   "metadata": {},
   "outputs": [],
   "source": [
    "for index, row in df.iterrows():\n",
    "    if (type(df[\"num_profile\"][index]) is not str):\n",
    "        index_for_dimension_class.append(index)"
   ]
  },
  {
   "cell_type": "code",
   "execution_count": 5,
   "metadata": {},
   "outputs": [],
   "source": [
    "for index, row in df.iterrows():\n",
    "    if (type(df[\"num_profile\"][index]) is not str) | (df[\"marine_traffic_class\"][index] == \"None\"):\n",
    "        index_for_ship_class.append(index)"
   ]
  },
  {
   "cell_type": "code",
   "execution_count": 6,
   "metadata": {},
   "outputs": [
    {
     "data": {
      "text/plain": [
       "60537"
      ]
     },
     "execution_count": 6,
     "metadata": {},
     "output_type": "execute_result"
    }
   ],
   "source": [
    "len(index_for_dimension_class)"
   ]
  },
  {
   "cell_type": "code",
   "execution_count": 7,
   "metadata": {},
   "outputs": [
    {
     "data": {
      "text/plain": [
       "191104"
      ]
     },
     "execution_count": 7,
     "metadata": {},
     "output_type": "execute_result"
    }
   ],
   "source": [
    "len(index_for_ship_class)"
   ]
  },
  {
   "cell_type": "markdown",
   "metadata": {},
   "source": [
    "Тут смотрели на количество выкидываемых строк"
   ]
  },
  {
   "cell_type": "code",
   "execution_count": 8,
   "metadata": {},
   "outputs": [],
   "source": [
    "def str_to_array(string):  #переводим строку из num_profile в list чисел\n",
    "    result = string.strip('[').strip(']').split(', ')\n",
    "    return [int(i) for i in result]"
   ]
  },
  {
   "cell_type": "code",
   "execution_count": 9,
   "metadata": {},
   "outputs": [],
   "source": [
    "labels = []\n",
    "\n",
    "for i in range(1, 201):\n",
    "    labels.append(\"np\"+str(i))"
   ]
  },
  {
   "cell_type": "code",
   "execution_count": 10,
   "metadata": {},
   "outputs": [],
   "source": [
    "def data_prep(df):\n",
    "    result = []\n",
    "    zeroes = 0\n",
    "    for index, row in df.iterrows():\n",
    "        result.append(str_to_array(df[\"num_profile\"][index]))\n",
    "        if sum(str_to_array(df[\"num_profile\"][index])) == 0:  \n",
    "            zeroes+=1\n",
    "        # это была дополнительная проверка на то, есть ли нулевые профили\n",
    "    print(zeroes)\n",
    "    return result"
   ]
  },
  {
   "cell_type": "code",
   "execution_count": 11,
   "metadata": {},
   "outputs": [],
   "source": [
    "temp_df_for_ship_class = df.drop(index_for_ship_class)\n",
    "temp_df_for_dimension_class = df.drop(index_for_dimension_class)"
   ]
  },
  {
   "cell_type": "code",
   "execution_count": 12,
   "metadata": {},
   "outputs": [
    {
     "name": "stdout",
     "output_type": "stream",
     "text": [
      "0\n",
      "0\n"
     ]
    }
   ],
   "source": [
    "df_for_ship_class = pd.DataFrame(data_prep(temp_df_for_ship_class), columns=labels)\n",
    "df_for_dimension_class = pd.DataFrame(data_prep(temp_df_for_dimension_class), columns=labels)"
   ]
  },
  {
   "cell_type": "code",
   "execution_count": 13,
   "metadata": {},
   "outputs": [],
   "source": [
    "df_for_ship_class[\"view_angle\"] = temp_df_for_ship_class.reset_index()[\"view_angle\"]\n",
    "df_for_dimension_class[\"view_angle\"] = temp_df_for_dimension_class.reset_index()[\"view_angle\"]"
   ]
  },
  {
   "cell_type": "code",
   "execution_count": 14,
   "metadata": {
    "scrolled": false
   },
   "outputs": [],
   "source": [
    "df_for_ship_class[\"distance_to_radar\"] = temp_df_for_ship_class.reset_index()[\"distance_to_radar\"]\n",
    "df_for_dimension_class[\"distance_to_radar\"] = temp_df_for_dimension_class.reset_index()[\"distance_to_radar\"]"
   ]
  },
  {
   "cell_type": "code",
   "execution_count": 15,
   "metadata": {},
   "outputs": [],
   "source": [
    "df_for_ship_class[\"marine_traffic_class\"] = temp_df_for_ship_class.reset_index()[\"marine_traffic_class\"]\n",
    "df_for_dimension_class[\"dimension_class\"] = temp_df_for_dimension_class.reset_index()[\"dimension_class\"]"
   ]
  },
  {
   "cell_type": "code",
   "execution_count": 16,
   "metadata": {},
   "outputs": [],
   "source": [
    "df_for_ship_class.to_csv(path_or_buf=\"radar_dataset/df_for_ship_class.csv\", index=False)\n",
    "df_for_dimension_class.to_csv(path_or_buf=\"radar_dataset/df_for_dimension_class.csv\", index=False)"
   ]
  },
  {
   "cell_type": "code",
   "execution_count": null,
   "metadata": {},
   "outputs": [],
   "source": []
  }
 ],
 "metadata": {
  "kernelspec": {
   "display_name": "Python 3 (ipykernel)",
   "language": "python",
   "name": "python3"
  },
  "language_info": {
   "codemirror_mode": {
    "name": "ipython",
    "version": 3
   },
   "file_extension": ".py",
   "mimetype": "text/x-python",
   "name": "python",
   "nbconvert_exporter": "python",
   "pygments_lexer": "ipython3",
   "version": "3.8.5"
  }
 },
 "nbformat": 4,
 "nbformat_minor": 4
}
