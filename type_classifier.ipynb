{
 "cells": [
  {
   "cell_type": "code",
   "execution_count": 2,
   "id": "0ce36488",
   "metadata": {},
   "outputs": [],
   "source": [
    "import numpy as np\n",
    "import pandas as pd\n",
    "from catboost import CatBoostClassifier, Pool\n",
    "from sklearn.model_selection import train_test_split\n",
    "from sklearn.metrics import accuracy_score"
   ]
  },
  {
   "cell_type": "code",
   "execution_count": 3,
   "id": "161fb106",
   "metadata": {},
   "outputs": [],
   "source": [
    "df_for_ship_class = pd.read_csv(\"radar_dataset/df_for_ship_class.csv\")"
   ]
  },
  {
   "cell_type": "code",
   "execution_count": 4,
   "id": "be822272",
   "metadata": {},
   "outputs": [],
   "source": [
    "index_drop = []\n",
    "for index, row in df_for_ship_class.iterrows():\n",
    "    if (df_for_ship_class[\"marine_traffic_class\"][index] == 'fishery_research vessel'):\n",
    "        index_drop.append(index)"
   ]
  },
  {
   "cell_type": "code",
   "execution_count": 5,
   "id": "1e491dca",
   "metadata": {},
   "outputs": [],
   "source": [
    "df_for_ship_class = df_for_ship_class.drop(index_drop)"
   ]
  },
  {
   "cell_type": "code",
   "execution_count": 29,
   "id": "c80c8e78",
   "metadata": {},
   "outputs": [
    {
     "data": {
      "text/html": [
       "<div>\n",
       "<style scoped>\n",
       "    .dataframe tbody tr th:only-of-type {\n",
       "        vertical-align: middle;\n",
       "    }\n",
       "\n",
       "    .dataframe tbody tr th {\n",
       "        vertical-align: top;\n",
       "    }\n",
       "\n",
       "    .dataframe thead th {\n",
       "        text-align: right;\n",
       "    }\n",
       "</style>\n",
       "<table border=\"1\" class=\"dataframe\">\n",
       "  <thead>\n",
       "    <tr style=\"text-align: right;\">\n",
       "      <th></th>\n",
       "      <th>np1</th>\n",
       "      <th>np2</th>\n",
       "      <th>np3</th>\n",
       "      <th>np4</th>\n",
       "      <th>np5</th>\n",
       "      <th>np6</th>\n",
       "      <th>np7</th>\n",
       "      <th>np8</th>\n",
       "      <th>np9</th>\n",
       "      <th>np10</th>\n",
       "      <th>...</th>\n",
       "      <th>np194</th>\n",
       "      <th>np195</th>\n",
       "      <th>np196</th>\n",
       "      <th>np197</th>\n",
       "      <th>np198</th>\n",
       "      <th>np199</th>\n",
       "      <th>np200</th>\n",
       "      <th>view_angle</th>\n",
       "      <th>distance_to_radar</th>\n",
       "      <th>marine_traffic_class</th>\n",
       "    </tr>\n",
       "  </thead>\n",
       "  <tbody>\n",
       "    <tr>\n",
       "      <th>0</th>\n",
       "      <td>0</td>\n",
       "      <td>0</td>\n",
       "      <td>0</td>\n",
       "      <td>0</td>\n",
       "      <td>0</td>\n",
       "      <td>0</td>\n",
       "      <td>0</td>\n",
       "      <td>0</td>\n",
       "      <td>0</td>\n",
       "      <td>0</td>\n",
       "      <td>...</td>\n",
       "      <td>0</td>\n",
       "      <td>0</td>\n",
       "      <td>0</td>\n",
       "      <td>0</td>\n",
       "      <td>0</td>\n",
       "      <td>0</td>\n",
       "      <td>0</td>\n",
       "      <td>-165.621794</td>\n",
       "      <td>26609.081047</td>\n",
       "      <td>oil_products tanker</td>\n",
       "    </tr>\n",
       "    <tr>\n",
       "      <th>1</th>\n",
       "      <td>11</td>\n",
       "      <td>15</td>\n",
       "      <td>17</td>\n",
       "      <td>9</td>\n",
       "      <td>14</td>\n",
       "      <td>27</td>\n",
       "      <td>27</td>\n",
       "      <td>18</td>\n",
       "      <td>3</td>\n",
       "      <td>9</td>\n",
       "      <td>...</td>\n",
       "      <td>40</td>\n",
       "      <td>31</td>\n",
       "      <td>24</td>\n",
       "      <td>8</td>\n",
       "      <td>17</td>\n",
       "      <td>20</td>\n",
       "      <td>11</td>\n",
       "      <td>-43.317525</td>\n",
       "      <td>5163.925502</td>\n",
       "      <td>tug</td>\n",
       "    </tr>\n",
       "    <tr>\n",
       "      <th>2</th>\n",
       "      <td>5</td>\n",
       "      <td>5</td>\n",
       "      <td>4</td>\n",
       "      <td>4</td>\n",
       "      <td>5</td>\n",
       "      <td>6</td>\n",
       "      <td>6</td>\n",
       "      <td>7</td>\n",
       "      <td>7</td>\n",
       "      <td>7</td>\n",
       "      <td>...</td>\n",
       "      <td>0</td>\n",
       "      <td>0</td>\n",
       "      <td>0</td>\n",
       "      <td>0</td>\n",
       "      <td>0</td>\n",
       "      <td>0</td>\n",
       "      <td>0</td>\n",
       "      <td>131.641740</td>\n",
       "      <td>2655.661736</td>\n",
       "      <td>tug</td>\n",
       "    </tr>\n",
       "    <tr>\n",
       "      <th>3</th>\n",
       "      <td>9</td>\n",
       "      <td>13</td>\n",
       "      <td>4</td>\n",
       "      <td>3</td>\n",
       "      <td>5</td>\n",
       "      <td>8</td>\n",
       "      <td>13</td>\n",
       "      <td>18</td>\n",
       "      <td>16</td>\n",
       "      <td>8</td>\n",
       "      <td>...</td>\n",
       "      <td>0</td>\n",
       "      <td>0</td>\n",
       "      <td>0</td>\n",
       "      <td>0</td>\n",
       "      <td>0</td>\n",
       "      <td>0</td>\n",
       "      <td>0</td>\n",
       "      <td>-87.530959</td>\n",
       "      <td>15204.475378</td>\n",
       "      <td>yacht/pleasure_craft</td>\n",
       "    </tr>\n",
       "    <tr>\n",
       "      <th>4</th>\n",
       "      <td>2</td>\n",
       "      <td>0</td>\n",
       "      <td>0</td>\n",
       "      <td>0</td>\n",
       "      <td>0</td>\n",
       "      <td>0</td>\n",
       "      <td>0</td>\n",
       "      <td>0</td>\n",
       "      <td>0</td>\n",
       "      <td>0</td>\n",
       "      <td>...</td>\n",
       "      <td>0</td>\n",
       "      <td>0</td>\n",
       "      <td>0</td>\n",
       "      <td>0</td>\n",
       "      <td>0</td>\n",
       "      <td>0</td>\n",
       "      <td>0</td>\n",
       "      <td>-165.604741</td>\n",
       "      <td>26581.600069</td>\n",
       "      <td>oil_products tanker</td>\n",
       "    </tr>\n",
       "    <tr>\n",
       "      <th>...</th>\n",
       "      <td>...</td>\n",
       "      <td>...</td>\n",
       "      <td>...</td>\n",
       "      <td>...</td>\n",
       "      <td>...</td>\n",
       "      <td>...</td>\n",
       "      <td>...</td>\n",
       "      <td>...</td>\n",
       "      <td>...</td>\n",
       "      <td>...</td>\n",
       "      <td>...</td>\n",
       "      <td>...</td>\n",
       "      <td>...</td>\n",
       "      <td>...</td>\n",
       "      <td>...</td>\n",
       "      <td>...</td>\n",
       "      <td>...</td>\n",
       "      <td>...</td>\n",
       "      <td>...</td>\n",
       "      <td>...</td>\n",
       "      <td>...</td>\n",
       "    </tr>\n",
       "    <tr>\n",
       "      <th>308891</th>\n",
       "      <td>0</td>\n",
       "      <td>0</td>\n",
       "      <td>0</td>\n",
       "      <td>0</td>\n",
       "      <td>0</td>\n",
       "      <td>0</td>\n",
       "      <td>0</td>\n",
       "      <td>0</td>\n",
       "      <td>0</td>\n",
       "      <td>0</td>\n",
       "      <td>...</td>\n",
       "      <td>0</td>\n",
       "      <td>0</td>\n",
       "      <td>0</td>\n",
       "      <td>0</td>\n",
       "      <td>0</td>\n",
       "      <td>0</td>\n",
       "      <td>0</td>\n",
       "      <td>25.461893</td>\n",
       "      <td>32172.729858</td>\n",
       "      <td>oil/chemical_tanker</td>\n",
       "    </tr>\n",
       "    <tr>\n",
       "      <th>308892</th>\n",
       "      <td>0</td>\n",
       "      <td>0</td>\n",
       "      <td>0</td>\n",
       "      <td>0</td>\n",
       "      <td>0</td>\n",
       "      <td>0</td>\n",
       "      <td>0</td>\n",
       "      <td>0</td>\n",
       "      <td>0</td>\n",
       "      <td>0</td>\n",
       "      <td>...</td>\n",
       "      <td>2</td>\n",
       "      <td>1</td>\n",
       "      <td>0</td>\n",
       "      <td>0</td>\n",
       "      <td>0</td>\n",
       "      <td>0</td>\n",
       "      <td>0</td>\n",
       "      <td>23.209848</td>\n",
       "      <td>42977.750563</td>\n",
       "      <td>container_ship</td>\n",
       "    </tr>\n",
       "    <tr>\n",
       "      <th>308893</th>\n",
       "      <td>0</td>\n",
       "      <td>0</td>\n",
       "      <td>0</td>\n",
       "      <td>0</td>\n",
       "      <td>0</td>\n",
       "      <td>0</td>\n",
       "      <td>0</td>\n",
       "      <td>0</td>\n",
       "      <td>0</td>\n",
       "      <td>0</td>\n",
       "      <td>...</td>\n",
       "      <td>0</td>\n",
       "      <td>0</td>\n",
       "      <td>0</td>\n",
       "      <td>0</td>\n",
       "      <td>0</td>\n",
       "      <td>0</td>\n",
       "      <td>0</td>\n",
       "      <td>43.401273</td>\n",
       "      <td>31280.847224</td>\n",
       "      <td>ro-ro_cargo</td>\n",
       "    </tr>\n",
       "    <tr>\n",
       "      <th>308894</th>\n",
       "      <td>2</td>\n",
       "      <td>3</td>\n",
       "      <td>4</td>\n",
       "      <td>9</td>\n",
       "      <td>8</td>\n",
       "      <td>4</td>\n",
       "      <td>8</td>\n",
       "      <td>7</td>\n",
       "      <td>10</td>\n",
       "      <td>8</td>\n",
       "      <td>...</td>\n",
       "      <td>17</td>\n",
       "      <td>13</td>\n",
       "      <td>21</td>\n",
       "      <td>23</td>\n",
       "      <td>18</td>\n",
       "      <td>18</td>\n",
       "      <td>16</td>\n",
       "      <td>46.741852</td>\n",
       "      <td>18777.002455</td>\n",
       "      <td>general_cargo</td>\n",
       "    </tr>\n",
       "    <tr>\n",
       "      <th>308895</th>\n",
       "      <td>26</td>\n",
       "      <td>27</td>\n",
       "      <td>21</td>\n",
       "      <td>27</td>\n",
       "      <td>25</td>\n",
       "      <td>16</td>\n",
       "      <td>17</td>\n",
       "      <td>10</td>\n",
       "      <td>14</td>\n",
       "      <td>16</td>\n",
       "      <td>...</td>\n",
       "      <td>5</td>\n",
       "      <td>8</td>\n",
       "      <td>16</td>\n",
       "      <td>15</td>\n",
       "      <td>2</td>\n",
       "      <td>22</td>\n",
       "      <td>13</td>\n",
       "      <td>149.950504</td>\n",
       "      <td>12736.183943</td>\n",
       "      <td>bulk_carrier</td>\n",
       "    </tr>\n",
       "  </tbody>\n",
       "</table>\n",
       "<p>308895 rows × 203 columns</p>\n",
       "</div>"
      ],
      "text/plain": [
       "        np1  np2  np3  np4  np5  np6  np7  np8  np9  np10  ...  np194  np195  \\\n",
       "0         0    0    0    0    0    0    0    0    0     0  ...      0      0   \n",
       "1        11   15   17    9   14   27   27   18    3     9  ...     40     31   \n",
       "2         5    5    4    4    5    6    6    7    7     7  ...      0      0   \n",
       "3         9   13    4    3    5    8   13   18   16     8  ...      0      0   \n",
       "4         2    0    0    0    0    0    0    0    0     0  ...      0      0   \n",
       "...     ...  ...  ...  ...  ...  ...  ...  ...  ...   ...  ...    ...    ...   \n",
       "308891    0    0    0    0    0    0    0    0    0     0  ...      0      0   \n",
       "308892    0    0    0    0    0    0    0    0    0     0  ...      2      1   \n",
       "308893    0    0    0    0    0    0    0    0    0     0  ...      0      0   \n",
       "308894    2    3    4    9    8    4    8    7   10     8  ...     17     13   \n",
       "308895   26   27   21   27   25   16   17   10   14    16  ...      5      8   \n",
       "\n",
       "        np196  np197  np198  np199  np200  view_angle  distance_to_radar  \\\n",
       "0           0      0      0      0      0 -165.621794       26609.081047   \n",
       "1          24      8     17     20     11  -43.317525        5163.925502   \n",
       "2           0      0      0      0      0  131.641740        2655.661736   \n",
       "3           0      0      0      0      0  -87.530959       15204.475378   \n",
       "4           0      0      0      0      0 -165.604741       26581.600069   \n",
       "...       ...    ...    ...    ...    ...         ...                ...   \n",
       "308891      0      0      0      0      0   25.461893       32172.729858   \n",
       "308892      0      0      0      0      0   23.209848       42977.750563   \n",
       "308893      0      0      0      0      0   43.401273       31280.847224   \n",
       "308894     21     23     18     18     16   46.741852       18777.002455   \n",
       "308895     16     15      2     22     13  149.950504       12736.183943   \n",
       "\n",
       "        marine_traffic_class  \n",
       "0        oil_products tanker  \n",
       "1                        tug  \n",
       "2                        tug  \n",
       "3       yacht/pleasure_craft  \n",
       "4        oil_products tanker  \n",
       "...                      ...  \n",
       "308891   oil/chemical_tanker  \n",
       "308892        container_ship  \n",
       "308893           ro-ro_cargo  \n",
       "308894         general_cargo  \n",
       "308895          bulk_carrier  \n",
       "\n",
       "[308895 rows x 203 columns]"
      ]
     },
     "execution_count": 29,
     "metadata": {},
     "output_type": "execute_result"
    }
   ],
   "source": [
    "df_for_ship_class"
   ]
  },
  {
   "cell_type": "code",
   "execution_count": 6,
   "id": "afd54afa",
   "metadata": {},
   "outputs": [],
   "source": [
    "data_labels_for_training = []\n",
    "for i in range(1, 201):\n",
    "        data_labels_for_training.append(\"np\" + str(i))\n",
    "data_labels_for_training.append(\"view_angle\")\n",
    "data_labels_for_training.append(\"distance_to_radar\")\n",
    "\n",
    "target_label = \"marine_traffic_class\"\n",
    "\n",
    "data = df_for_ship_class[data_labels_for_training].to_numpy()\n",
    "labels = df_for_ship_class[target_label].to_numpy()"
   ]
  },
  {
   "cell_type": "code",
   "execution_count": 20,
   "id": "f0898549",
   "metadata": {},
   "outputs": [
    {
     "name": "stdout",
     "output_type": "stream",
     "text": [
      "{'oil_products tanker': 13357, 'tug': 23164, 'yacht/pleasure_craft': 2262, 'container_ship': 41605, 'oil/chemical_tanker': 55696, 'ro-ro/passenger_ship': 21078, 'general_cargo': 18390, 'crude_oil tanker': 62286, 'hopper_dredger': 14098, 'pilot_ship': 4699, 'lpg_tanker': 5794, 'sailing_vessel': 2084, 'bulk_carrier': 2390, 'training_ship': 7986, 'other': 173, 'trawler': 3339, 'tanker': 1026, 'ro-ro_cargo': 1896, 'vehicles_carrier': 9680, 'chemical_tanker': 2138, 'passenger_ship': 6034, 'ro-ro/container_carrier': 786, 'high_speed craft': 283, 'fishing': 3328, 'passenger': 127, 'rescue/salvage_ship': 196, 'aggregates_carrier': 119, 'container': 303, 'asphalt/bitumen_tanker': 1029, 'fishing_vessel': 118, 'dry_cargo': 892, 'heavy_load carrier': 168, 'crewboat': 1616, 'lh896354': 755}\n"
     ]
    }
   ],
   "source": [
    "def get_classes_size(labels):\n",
    "    classes = {}\n",
    "    for i in labels.transpose():\n",
    "        if i in classes.keys():\n",
    "            classes[i]+=1\n",
    "        else:\n",
    "            classes[i]=1\n",
    "    return classes\n",
    "\n",
    "classes = get_classes_size(labels)\n",
    "print(classes)"
   ]
  },
  {
   "cell_type": "code",
   "execution_count": 8,
   "id": "5eb8a9af",
   "metadata": {},
   "outputs": [],
   "source": [
    "train_data, test_data, train_labels, test_labels = train_test_split(data, labels, train_size=0.8)\n",
    "\n",
    "pool = Pool(data, labels)\n",
    "pool_train = Pool(train_data, train_labels)\n",
    "pool_test = Pool(test_data, test_labels)\n",
    "\n",
    "model = CatBoostClassifier(iterations=1500,\n",
    "                           depth=3,\n",
    "                           learning_rate=0.2,\n",
    "                           loss_function='MultiClass',\n",
    "                           task_type=\"GPU\",\n",
    "                           early_stopping_rounds = 20,\n",
    "                           verbose=False)"
   ]
  },
  {
   "cell_type": "code",
   "execution_count": 9,
   "id": "f40a44ee",
   "metadata": {},
   "outputs": [
    {
     "data": {
      "application/vnd.jupyter.widget-view+json": {
       "model_id": "64decb578af04722a4e1f105c0c7be6d",
       "version_major": 2,
       "version_minor": 0
      },
      "text/plain": [
       "MetricVisualizer(layout=Layout(align_self='stretch', height='500px'))"
      ]
     },
     "metadata": {},
     "output_type": "display_data"
    },
    {
     "data": {
      "text/plain": [
       "<catboost.core.CatBoostClassifier at 0x19eb326a3d0>"
      ]
     },
     "execution_count": 9,
     "metadata": {},
     "output_type": "execute_result"
    }
   ],
   "source": [
    "model.fit(pool_train, eval_set=pool_test, plot=True)"
   ]
  },
  {
   "cell_type": "code",
   "execution_count": 10,
   "id": "3f92ec6c",
   "metadata": {},
   "outputs": [
    {
     "name": "stdout",
     "output_type": "stream",
     "text": [
      "0.8056459314653847\n"
     ]
    }
   ],
   "source": [
    "preds_class_test = model.predict(pool_test)\n",
    "preds_class_test = preds_class_test.transpose()\n",
    "print(model.score(test_data, test_labels))"
   ]
  },
  {
   "cell_type": "code",
   "execution_count": 11,
   "id": "44fdfe7a",
   "metadata": {},
   "outputs": [],
   "source": [
    "from catboost import cv"
   ]
  },
  {
   "cell_type": "code",
   "execution_count": 12,
   "id": "1043154e",
   "metadata": {},
   "outputs": [],
   "source": [
    "params = {}\n",
    "params['loss_function'] = 'MultiClass'\n",
    "params['iterations'] = 1500\n",
    "params['custom_loss'] = 'AUC'\n",
    "params['learning_rate'] = 0.2\n",
    "params['task_type'] = 'GPU'\n",
    "params['depth'] = 3\n",
    "params['early_stopping_rounds'] = 20"
   ]
  },
  {
   "cell_type": "code",
   "execution_count": 13,
   "id": "32adbee8",
   "metadata": {},
   "outputs": [
    {
     "data": {
      "application/vnd.jupyter.widget-view+json": {
       "model_id": "9a4dfd21a75c461d8edd25ad0e93b4a8",
       "version_major": 2,
       "version_minor": 0
      },
      "text/plain": [
       "MetricVisualizer(layout=Layout(align_self='stretch', height='500px'))"
      ]
     },
     "metadata": {},
     "output_type": "display_data"
    },
    {
     "name": "stdout",
     "output_type": "stream",
     "text": [
      "Training on fold [0/5]\n"
     ]
    },
    {
     "name": "stderr",
     "output_type": "stream",
     "text": [
      "AUC is not implemented on GPU. Will use CPU for metric computation, this could significantly affect learning time\n"
     ]
    },
    {
     "name": "stdout",
     "output_type": "stream",
     "text": [
      "bestTest = 0.6472943183\n",
      "bestIteration = 1499\n",
      "Training on fold [1/5]\n"
     ]
    },
    {
     "name": "stderr",
     "output_type": "stream",
     "text": [
      "AUC is not implemented on GPU. Will use CPU for metric computation, this could significantly affect learning time\n"
     ]
    },
    {
     "name": "stdout",
     "output_type": "stream",
     "text": [
      "bestTest = 0.6371358339\n",
      "bestIteration = 1499\n",
      "Training on fold [2/5]\n"
     ]
    },
    {
     "name": "stderr",
     "output_type": "stream",
     "text": [
      "AUC is not implemented on GPU. Will use CPU for metric computation, this could significantly affect learning time\n"
     ]
    },
    {
     "name": "stdout",
     "output_type": "stream",
     "text": [
      "bestTest = 0.6430696862\n",
      "bestIteration = 1499\n",
      "Training on fold [3/5]\n"
     ]
    },
    {
     "name": "stderr",
     "output_type": "stream",
     "text": [
      "AUC is not implemented on GPU. Will use CPU for metric computation, this could significantly affect learning time\n"
     ]
    },
    {
     "name": "stdout",
     "output_type": "stream",
     "text": [
      "bestTest = 0.64565762\n",
      "bestIteration = 1499\n",
      "Training on fold [4/5]\n"
     ]
    },
    {
     "name": "stderr",
     "output_type": "stream",
     "text": [
      "AUC is not implemented on GPU. Will use CPU for metric computation, this could significantly affect learning time\n"
     ]
    },
    {
     "name": "stdout",
     "output_type": "stream",
     "text": [
      "bestTest = 0.6446171364\n",
      "bestIteration = 1499\n"
     ]
    }
   ],
   "source": [
    "cv_data1 = cv(\n",
    "    params = params,\n",
    "    pool = pool,\n",
    "    fold_count = 5,\n",
    "    shuffle = True,\n",
    "    partition_random_seed = 0,\n",
    "    plot=True,\n",
    "    stratified = True,\n",
    "    verbose = False\n",
    ")"
   ]
  },
  {
   "cell_type": "code",
   "execution_count": 16,
   "id": "42590542",
   "metadata": {},
   "outputs": [],
   "source": [
    "def true_positive(dict_class, predicted_labels, true_labels):\n",
    "    tp_dict = dict.fromkeys(dict_class.keys(), 0)\n",
    "    for i in range(0, len(predicted_labels)):\n",
    "        if predicted_labels[i] == true_labels[i]:\n",
    "            tp_dict[true_labels[i]]+=1\n",
    "    \n",
    "    for k in tp_dict.keys():\n",
    "        tp_dict[k] = tp_dict[k]/dict_class[k]\n",
    "        \n",
    "    return tp_dict"
   ]
  },
  {
   "cell_type": "code",
   "execution_count": 26,
   "id": "9d3c5325",
   "metadata": {},
   "outputs": [
    {
     "name": "stdout",
     "output_type": "stream",
     "text": [
      "oil_products tanker: 0.8344519015659956\n",
      "yacht/pleasure_craft: 0.8004587155963303\n",
      "training_ship: 0.7975460122699386\n",
      "hopper_dredger: 0.6357711803041275\n",
      "passenger_ship: 0.6972704714640199\n",
      "tug: 0.855526544821584\n",
      "crude_oil tanker: 0.9466933867735471\n",
      "general_cargo: 0.6752659574468085\n",
      "pilot_ship: 0.6788399570354458\n",
      "oil/chemical_tanker: 0.8367291741795889\n",
      "container_ship: 0.8613103196791054\n",
      "bulk_carrier: 0.571992110453649\n",
      "sailing_vessel: 0.7026378896882494\n",
      "lpg_tanker: 0.24520069808027922\n",
      "vehicles_carrier: 0.5903490759753593\n",
      "ro-ro/passenger_ship: 0.8739751698289998\n",
      "fishing: 0.760670731707317\n",
      "lh896354: 0.3051948051948052\n",
      "container: 0.16666666666666666\n",
      "ro-ro_cargo: 0.3815789473684211\n",
      "trawler: 0.9279538904899135\n",
      "chemical_tanker: 0.33640552995391704\n",
      "crewboat: 0.7049689440993789\n",
      "tanker: 0.41784037558685444\n",
      "passenger: 0.08\n",
      "dry_cargo: 0.6309523809523809\n",
      "high_speed craft: 0.25757575757575757\n",
      "ro-ro/container_carrier: 0.5578231292517006\n",
      "asphalt/bitumen_tanker: 0.8640776699029126\n",
      "heavy_load carrier: 0.6052631578947368\n",
      "rescue/salvage_ship: 0.4772727272727273\n",
      "other: 0.1111111111111111\n",
      "fishing_vessel: 0.9444444444444444\n",
      "aggregates_carrier: 0.12903225806451613\n"
     ]
    }
   ],
   "source": [
    "tp = true_positive(get_classes_size(test_labels), preds_class_test[0], test_labels)\n",
    "\n",
    "for k in tp.keys():\n",
    "    print(k + \": \" + str(tp[k]))"
   ]
  },
  {
   "cell_type": "code",
   "execution_count": 35,
   "id": "8c7f07dd",
   "metadata": {},
   "outputs": [
    {
     "name": "stdout",
     "output_type": "stream",
     "text": [
      "Ship percentage\n",
      "oil_products tanker: 4.324123083895822\n",
      "tug: 7.4989883293675845\n",
      "yacht/pleasure_craft: 0.7322876705676686\n",
      "container_ship: 13.46897813172761\n",
      "oil/chemical_tanker: 18.030722413765194\n",
      "ro-ro/passenger_ship: 6.82367794881756\n",
      "general_cargo: 5.953479337639004\n",
      "crude_oil tanker: 20.1641334434031\n",
      "hopper_dredger: 4.564010424254197\n",
      "pilot_ship: 1.5212288965506078\n",
      "lpg_tanker: 1.8757182861490151\n",
      "sailing_vessel: 0.6746629113452791\n",
      "bulk_carrier: 0.7737256996714094\n",
      "training_ship: 2.5853445345505754\n",
      "other: 0.056006086210524615\n",
      "trawler: 1.0809498373233624\n",
      "tanker: 0.332151702034672\n",
      "ro-ro_cargo: 0.6138008060991599\n",
      "vehicles_carrier: 3.1337509509703945\n",
      "chemical_tanker: 0.6921445798734198\n",
      "passenger_ship: 1.953414590718529\n",
      "ro-ro/container_carrier: 0.25445539746515805\n",
      "high_speed craft: 0.09161689247155182\n",
      "fishing: 1.0773887566972595\n",
      "passenger: 0.041114294501367776\n",
      "rescue/salvage_ship: 0.06345198206510302\n",
      "aggregates_carrier: 0.03852441768238398\n",
      "container: 0.09809158451901132\n",
      "asphalt/bitumen_tanker: 0.3331229058417909\n",
      "fishing_vessel: 0.038200683080011004\n",
      "dry_cargo: 0.2887712653166934\n",
      "heavy_load carrier: 0.05438741319865974\n",
      "crewboat: 0.523155117434727\n",
      "lh896354: 0.24441962479159585\n"
     ]
    }
   ],
   "source": [
    "print(\"Ship percentage\")\n",
    "temp = 0\n",
    "for k in classes.keys():\n",
    "    temp += classes[k]*100/df_for_ship_class.shape[0]\n",
    "    print(k + \": \" +str(classes[k]*100/df_for_ship_class.shape[0]))"
   ]
  },
  {
   "cell_type": "code",
   "execution_count": 36,
   "id": "e212d824",
   "metadata": {},
   "outputs": [],
   "source": [
    "def false_positive_count(dict_class, predicted_labels, true_labels):\n",
    "    fp_dict = dict.fromkeys(dict_class.keys(), 0)\n",
    "    for i in range(0, len(predicted_labels)):\n",
    "        if predicted_labels[i] != true_labels[i]:\n",
    "            fp_dict[predicted_labels[i]]+=1\n",
    "    \n",
    "    #for k in tp_dict.keys():\n",
    "    #    fp_dict[k] = fp_dict[k]/dict_class[k]\n",
    "        \n",
    "    return fp_dict"
   ]
  },
  {
   "cell_type": "code",
   "execution_count": 38,
   "id": "bc40474d",
   "metadata": {},
   "outputs": [
    {
     "name": "stdout",
     "output_type": "stream",
     "text": [
      "oil_products tanker: 278\n",
      "yacht/pleasure_craft: 135\n",
      "training_ship: 471\n",
      "hopper_dredger: 564\n",
      "passenger_ship: 94\n",
      "tug: 2044\n",
      "crude_oil tanker: 712\n",
      "general_cargo: 1095\n",
      "pilot_ship: 296\n",
      "oil/chemical_tanker: 2801\n",
      "container_ship: 1540\n",
      "bulk_carrier: 82\n",
      "sailing_vessel: 113\n",
      "lpg_tanker: 136\n",
      "vehicles_carrier: 267\n",
      "ro-ro/passenger_ship: 735\n",
      "fishing: 205\n",
      "lh896354: 29\n",
      "container: 7\n",
      "ro-ro_cargo: 26\n",
      "trawler: 60\n",
      "chemical_tanker: 92\n",
      "crewboat: 99\n",
      "tanker: 49\n",
      "passenger: 2\n",
      "dry_cargo: 11\n",
      "high_speed craft: 6\n",
      "ro-ro/container_carrier: 18\n",
      "asphalt/bitumen_tanker: 20\n",
      "heavy_load carrier: 3\n",
      "rescue/salvage_ship: 5\n",
      "other: 5\n",
      "fishing_vessel: 4\n",
      "aggregates_carrier: 3\n"
     ]
    }
   ],
   "source": [
    "fp = false_positive_count(get_classes_size(test_labels), preds_class_test[0], test_labels)\n",
    "\n",
    "for k in fp.keys():\n",
    "    print(k + \": \" + str(fp[k]))"
   ]
  },
  {
   "cell_type": "markdown",
   "id": "56140203",
   "metadata": {},
   "source": [
    "Большое количество неправильных срабатываний на грузовых кораблях разных типов говорит о том, что либо надо собрать больше данных по остальным типам кораблей (так как грузовые разных видов преобладают в датасете), либо отдельно тренировать модель на то, чтобы она умела различать типы конкретно грузовых."
   ]
  },
  {
   "cell_type": "markdown",
   "id": "d807ca3b",
   "metadata": {},
   "source": [
    "Можно было бы собрать типы кораблей по \"надтипам\" и сначала научиться различать их, а затем тренировать модели уже для каждого \"надтипа\" (например танкеры можно выделить в отдельную группу, однако я не сильно разбираюсь в кораблях, чтобы проводить такие объединения)."
   ]
  },
  {
   "cell_type": "markdown",
   "id": "887511f2",
   "metadata": {},
   "source": [
    "Плюс, тип научного судна и один из двух типов что был зашифрован цифровым кодом отсеялись, первый по причине того что одного корабля точно недостаточно для классификации, а у второго отсутствовал радарный профиль."
   ]
  },
  {
   "cell_type": "markdown",
   "id": "cae30626",
   "metadata": {},
   "source": [
    "Еще можно вывести полную матрицу ложных срабатываний и посмотреть, какие корабли с какими путают чаще всего и смотреть в чём причина, но частично это можно оправдать несбалансированностью датасета."
   ]
  }
 ],
 "metadata": {
  "kernelspec": {
   "display_name": "Python 3 (ipykernel)",
   "language": "python",
   "name": "python3"
  },
  "language_info": {
   "codemirror_mode": {
    "name": "ipython",
    "version": 3
   },
   "file_extension": ".py",
   "mimetype": "text/x-python",
   "name": "python",
   "nbconvert_exporter": "python",
   "pygments_lexer": "ipython3",
   "version": "3.8.5"
  }
 },
 "nbformat": 4,
 "nbformat_minor": 5
}
