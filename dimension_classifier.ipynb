{
 "cells": [
  {
   "cell_type": "code",
   "execution_count": 1,
   "id": "8cb4d217",
   "metadata": {},
   "outputs": [],
   "source": [
    "import numpy as np\n",
    "import pandas as pd\n",
    "from catboost import CatBoostClassifier, Pool\n",
    "from sklearn.model_selection import train_test_split\n",
    "from sklearn.metrics import accuracy_score"
   ]
  },
  {
   "cell_type": "code",
   "execution_count": 2,
   "id": "81a29122",
   "metadata": {},
   "outputs": [],
   "source": [
    "df_for_dimension_class = pd.read_csv(\"radar_dataset/df_for_dimension_class.csv\")\n",
    "\n",
    "data_labels_for_training = []\n",
    "for i in range(1, 201):\n",
    "        data_labels_for_training.append(\"np\" + str(i))\n",
    "data_labels_for_training.append(\"view_angle\")\n",
    "data_labels_for_training.append(\"distance_to_radar\")\n",
    "\n",
    "target_label = \"dimension_class\"\n",
    "\n",
    "data = df_for_dimension_class[data_labels_for_training].to_numpy()\n",
    "labels = df_for_dimension_class[target_label].to_numpy()"
   ]
  },
  {
   "cell_type": "code",
   "execution_count": 3,
   "id": "addf9c5e",
   "metadata": {},
   "outputs": [],
   "source": [
    "train_data, test_data, train_labels, test_labels = train_test_split(data, labels, train_size=0.8)\n",
    "\n",
    "pool = Pool(data, labels)\n",
    "pool_train = Pool(train_data, train_labels)\n",
    "pool_test = Pool(test_data, test_labels)\n",
    "\n",
    "model = CatBoostClassifier(iterations=1500,\n",
    "                           depth=3,\n",
    "                           learning_rate=0.2,\n",
    "                           loss_function='MultiClass',\n",
    "                           task_type=\"GPU\",\n",
    "                           early_stopping_rounds = 20,\n",
    "                           verbose=False)"
   ]
  },
  {
   "cell_type": "code",
   "execution_count": 4,
   "id": "f76a8f7e",
   "metadata": {},
   "outputs": [
    {
     "data": {
      "application/vnd.jupyter.widget-view+json": {
       "model_id": "82ba900d28f245c38a5991568c644a97",
       "version_major": 2,
       "version_minor": 0
      },
      "text/plain": [
       "MetricVisualizer(layout=Layout(align_self='stretch', height='500px'))"
      ]
     },
     "metadata": {},
     "output_type": "display_data"
    },
    {
     "data": {
      "text/plain": [
       "<catboost.core.CatBoostClassifier at 0x280bb8296d0>"
      ]
     },
     "execution_count": 4,
     "metadata": {},
     "output_type": "execute_result"
    }
   ],
   "source": [
    "model.fit(pool_train, eval_set=pool_test, plot=True)"
   ]
  },
  {
   "cell_type": "code",
   "execution_count": 5,
   "id": "eb4f28f0",
   "metadata": {},
   "outputs": [
    {
     "name": "stdout",
     "output_type": "stream",
     "text": [
      "0.9064089290387175\n"
     ]
    }
   ],
   "source": [
    "preds_class_test = model.predict(pool_test)\n",
    "preds_class_test = preds_class_test.transpose()\n",
    "print(model.score(test_data, test_labels))"
   ]
  },
  {
   "cell_type": "code",
   "execution_count": 6,
   "id": "f609026c",
   "metadata": {},
   "outputs": [
    {
     "name": "stdout",
     "output_type": "stream",
     "text": [
      "0.9135364223341014\n"
     ]
    }
   ],
   "source": [
    "preds_class_train = model.predict(pool_train)\n",
    "preds_class_train = preds_class_train.transpose()\n",
    "print(model.score(train_data, train_labels))"
   ]
  },
  {
   "cell_type": "code",
   "execution_count": 7,
   "id": "84ae400d",
   "metadata": {},
   "outputs": [],
   "source": [
    "from catboost import cv"
   ]
  },
  {
   "cell_type": "code",
   "execution_count": 8,
   "id": "0cd31e90",
   "metadata": {},
   "outputs": [],
   "source": [
    "params = {}\n",
    "params['loss_function'] = 'MultiClass'\n",
    "params['iterations'] = 1500\n",
    "params['custom_loss'] = 'AUC'\n",
    "params['learning_rate'] = 0.2\n",
    "params['task_type'] = 'GPU'\n",
    "params['depth'] = 3\n",
    "params['early_stopping_rounds'] = 20"
   ]
  },
  {
   "cell_type": "code",
   "execution_count": 9,
   "id": "4c49fb51",
   "metadata": {},
   "outputs": [
    {
     "data": {
      "application/vnd.jupyter.widget-view+json": {
       "model_id": "4b9541b5f4214e31bcaef4c896c02a2d",
       "version_major": 2,
       "version_minor": 0
      },
      "text/plain": [
       "MetricVisualizer(layout=Layout(align_self='stretch', height='500px'))"
      ]
     },
     "metadata": {},
     "output_type": "display_data"
    },
    {
     "name": "stdout",
     "output_type": "stream",
     "text": [
      "Training on fold [0/5]\n"
     ]
    },
    {
     "name": "stderr",
     "output_type": "stream",
     "text": [
      "AUC is not implemented on GPU. Will use CPU for metric computation, this could significantly affect learning time\n"
     ]
    },
    {
     "name": "stdout",
     "output_type": "stream",
     "text": [
      "bestTest = 0.2753853363\n",
      "bestIteration = 1499\n",
      "Training on fold [1/5]\n"
     ]
    },
    {
     "name": "stderr",
     "output_type": "stream",
     "text": [
      "AUC is not implemented on GPU. Will use CPU for metric computation, this could significantly affect learning time\n"
     ]
    },
    {
     "name": "stdout",
     "output_type": "stream",
     "text": [
      "bestTest = 0.2741194593\n",
      "bestIteration = 1499\n",
      "Training on fold [2/5]\n"
     ]
    },
    {
     "name": "stderr",
     "output_type": "stream",
     "text": [
      "AUC is not implemented on GPU. Will use CPU for metric computation, this could significantly affect learning time\n"
     ]
    },
    {
     "name": "stdout",
     "output_type": "stream",
     "text": [
      "bestTest = 0.2736732936\n",
      "bestIteration = 1499\n",
      "Training on fold [3/5]\n"
     ]
    },
    {
     "name": "stderr",
     "output_type": "stream",
     "text": [
      "AUC is not implemented on GPU. Will use CPU for metric computation, this could significantly affect learning time\n"
     ]
    },
    {
     "name": "stdout",
     "output_type": "stream",
     "text": [
      "bestTest = 0.2748629221\n",
      "bestIteration = 1499\n",
      "Training on fold [4/5]\n"
     ]
    },
    {
     "name": "stderr",
     "output_type": "stream",
     "text": [
      "AUC is not implemented on GPU. Will use CPU for metric computation, this could significantly affect learning time\n"
     ]
    },
    {
     "name": "stdout",
     "output_type": "stream",
     "text": [
      "bestTest = 0.2796655137\n",
      "bestIteration = 1499\n"
     ]
    }
   ],
   "source": [
    "cv_data1 = cv(\n",
    "    params = params,\n",
    "    pool = pool,\n",
    "    fold_count = 5,\n",
    "    shuffle = True,\n",
    "    partition_random_seed = 0,\n",
    "    plot=True,\n",
    "    stratified = False,\n",
    "    verbose = False\n",
    ")"
   ]
  },
  {
   "cell_type": "markdown",
   "id": "21be70fd",
   "metadata": {},
   "source": [
    "На кросс-валидации проверили что качество не сильно зависит от разбиения"
   ]
  }
 ],
 "metadata": {
  "kernelspec": {
   "display_name": "Python 3 (ipykernel)",
   "language": "python",
   "name": "python3"
  },
  "language_info": {
   "codemirror_mode": {
    "name": "ipython",
    "version": 3
   },
   "file_extension": ".py",
   "mimetype": "text/x-python",
   "name": "python",
   "nbconvert_exporter": "python",
   "pygments_lexer": "ipython3",
   "version": "3.8.5"
  }
 },
 "nbformat": 4,
 "nbformat_minor": 5
}
